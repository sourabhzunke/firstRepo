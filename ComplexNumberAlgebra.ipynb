{
 "cells": [
  {
   "cell_type": "code",
   "execution_count": 28,
   "metadata": {},
   "outputs": [],
   "source": [
    "def cplx_add(A = []):\n",
    "    cplx_sum = [0,0]\n",
    "    \n",
    "    x=0\n",
    "    y=0\n",
    "    \n",
    "    for i1,i2 in A:\n",
    "        x = x+i1\n",
    "        y = y+i2\n",
    "    \n",
    "    cplx_sum = [x,y]\n",
    "    return cplx_sum"
   ]
  },
  {
   "cell_type": "code",
   "execution_count": 31,
   "metadata": {},
   "outputs": [],
   "source": [
    "def cplx_sub(A= []):\n",
    "    cplx_diff = [0,0]\n",
    "    \n",
    "    x=0\n",
    "    y=0\n",
    "    \n",
    "    for i1,i2 in A:\n",
    "        x = x-i1\n",
    "        y = y-i2\n",
    "    \n",
    "    cplx_diff = [x,y]\n",
    "    return cplx_diff"
   ]
  },
  {
   "cell_type": "code",
   "execution_count": 1,
   "metadata": {},
   "outputs": [],
   "source": [
    "def cplx_mul(A=[]):\n",
    "    cplx_prod = [1,1]\n",
    "    \n",
    "    a=b=c=d=1\n",
    "    count =0\n",
    "    \n",
    "    for i1,i2 in A:\n",
    "        if count == 0:\n",
    "            cplx_prod[0] = i1\n",
    "            cplx_prod[1] = i2\n",
    "        else:    \n",
    "        #    print(i1,i2)\n",
    "            a = cplx_prod[0]*i1\n",
    "            b = cplx_prod[0]*i2\n",
    "            c = cplx_prod[1]*i1\n",
    "            d = cplx_prod[1]*i2\n",
    "        \n",
    "            cplx_prod[0] = a-d\n",
    "            cplx_prod[1] = b+c\n",
    "        #print(cplx_prod)\n",
    "        count=count+1\n",
    "        \n",
    "    return cplx_prod\n",
    "   \n",
    "        \n",
    "        "
   ]
  },
  {
   "cell_type": "code",
   "execution_count": null,
   "metadata": {},
   "outputs": [],
   "source": []
  }
 ],
 "metadata": {
  "kernelspec": {
   "display_name": "Python 3",
   "language": "python",
   "name": "python3"
  },
  "language_info": {
   "codemirror_mode": {
    "name": "ipython",
    "version": 3
   },
   "file_extension": ".py",
   "mimetype": "text/x-python",
   "name": "python",
   "nbconvert_exporter": "python",
   "pygments_lexer": "ipython3",
   "version": "3.7.1"
  }
 },
 "nbformat": 4,
 "nbformat_minor": 2
}

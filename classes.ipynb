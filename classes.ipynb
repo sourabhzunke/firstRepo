{
 "cells": [
  {
   "cell_type": "code",
   "execution_count": 2,
   "metadata": {},
   "outputs": [],
   "source": [
    "#class definition\n",
    "\n",
    "class sample():\n",
    "    \n",
    "    #class constructor\n",
    "    def __init__(self, arg1, arg2):\n",
    "        \n",
    "        # self: used to differentiate between class and function\n",
    "        # self can be replaced with any other variable\n",
    "        # arg1, arg2: arguments/parameters of class object\n",
    "    \n",
    "        self.arg_a = arg1\n",
    "        self.arg_b = arg2\n",
    "    "
   ]
  },
  {
   "cell_type": "code",
   "execution_count": 3,
   "metadata": {},
   "outputs": [],
   "source": [
    "mysample = sample('argument1','argument2')"
   ]
  },
  {
   "cell_type": "code",
   "execution_count": 4,
   "metadata": {},
   "outputs": [
    {
     "data": {
      "text/plain": [
       "<__main__.sample at 0x7f55881f95c0>"
      ]
     },
     "execution_count": 4,
     "metadata": {},
     "output_type": "execute_result"
    }
   ],
   "source": [
    "mysample\n"
   ]
  },
  {
   "cell_type": "code",
   "execution_count": 5,
   "metadata": {},
   "outputs": [
    {
     "data": {
      "text/plain": [
       "'argument1'"
      ]
     },
     "execution_count": 5,
     "metadata": {},
     "output_type": "execute_result"
    }
   ],
   "source": [
    "mysample.arg_a\n"
   ]
  },
  {
   "cell_type": "code",
   "execution_count": 19,
   "metadata": {},
   "outputs": [],
   "source": [
    "#Create a class: Dog\n",
    "\n",
    "class Dog():\n",
    "    \n",
    "    #CLASS OBJECT  ATTRIBUTE\n",
    "    #SAME FOR ANY INSTANCE OF CLASS\n",
    "    \n",
    "    species = 'mammal'\n",
    "    \n",
    "    #CREATE CLASS CONSTRUCTOR/INITIALIZE CLASS\n",
    "    def __init__(self,breed,name,spots,food):\n",
    "        \n",
    "        #self is used to differentiate function from class initiation\n",
    "        #ATTRIBUTES\n",
    "        #Take arguments and assign them to attributes\n",
    "        \n",
    "        self.breed = breed\n",
    "        self.name  = name\n",
    "        \n",
    "        #specify attribute type through comments or some documentation\n",
    "        #or add type check\n",
    "        \n",
    "        self.spots = True\n",
    "        self.food = food\n",
    "            \n",
    "        #DEFINE METHODS\n",
    "        #METHODS: A Python method is like a Python function,\n",
    "        #but it must be called on an object. And to create it, you must put it inside a class. \n",
    "        \n",
    "    def bark(self):\n",
    "        print(\"Bow wow! my name is {}\".format(self.name))\n",
    "    def eat(self):\n",
    "       \n",
    "        print(\"I'm eating {}\".format(self.food))\n",
    "        "
   ]
  },
  {
   "cell_type": "code",
   "execution_count": 17,
   "metadata": {},
   "outputs": [],
   "source": [
    "mydog = Dog('rollie','reville',True,'bone')"
   ]
  },
  {
   "cell_type": "code",
   "execution_count": 5,
   "metadata": {},
   "outputs": [
    {
     "data": {
      "text/plain": [
       "<bound method Dog.bark of <__main__.Dog object at 0x7f459c037978>>"
      ]
     },
     "execution_count": 5,
     "metadata": {},
     "output_type": "execute_result"
    }
   ],
   "source": [
    "mydog.bark"
   ]
  },
  {
   "cell_type": "code",
   "execution_count": 8,
   "metadata": {},
   "outputs": [
    {
     "data": {
      "text/plain": [
       "'rollie'"
      ]
     },
     "execution_count": 8,
     "metadata": {},
     "output_type": "execute_result"
    }
   ],
   "source": [
    "mydog.breed"
   ]
  },
  {
   "cell_type": "code",
   "execution_count": 9,
   "metadata": {},
   "outputs": [
    {
     "data": {
      "text/plain": [
       "'reville'"
      ]
     },
     "execution_count": 9,
     "metadata": {},
     "output_type": "execute_result"
    }
   ],
   "source": [
    "mydog.name\n"
   ]
  },
  {
   "cell_type": "code",
   "execution_count": 10,
   "metadata": {},
   "outputs": [
    {
     "name": "stdout",
     "output_type": "stream",
     "text": [
      "Bow wow! my name is reville\n"
     ]
    }
   ],
   "source": [
    "mydog.bark()"
   ]
  },
  {
   "cell_type": "code",
   "execution_count": 18,
   "metadata": {},
   "outputs": [
    {
     "name": "stdout",
     "output_type": "stream",
     "text": [
      "I'm eating bone\n"
     ]
    }
   ],
   "source": [
    "mydog.eat()"
   ]
  },
  {
   "cell_type": "code",
   "execution_count": 20,
   "metadata": {},
   "outputs": [
    {
     "data": {
      "text/plain": [
       "'mammal'"
      ]
     },
     "execution_count": 20,
     "metadata": {},
     "output_type": "execute_result"
    }
   ],
   "source": [
    "Dog.species\n"
   ]
  },
  {
   "cell_type": "code",
   "execution_count": null,
   "metadata": {},
   "outputs": [],
   "source": []
  }
 ],
 "metadata": {
  "kernelspec": {
   "display_name": "Python 3",
   "language": "python",
   "name": "python3"
  },
  "language_info": {
   "codemirror_mode": {
    "name": "ipython",
    "version": 3
   },
   "file_extension": ".py",
   "mimetype": "text/x-python",
   "name": "python",
   "nbconvert_exporter": "python",
   "pygments_lexer": "ipython3",
   "version": "3.7.1"
  }
 },
 "nbformat": 4,
 "nbformat_minor": 2
}
